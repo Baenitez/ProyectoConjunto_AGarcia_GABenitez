{
 "cells": [
  {
   "cell_type": "code",
   "execution_count": 2,
   "metadata": {
    "collapsed": false
   },
   "outputs": [
    {
     "name": "stdout",
     "output_type": "stream",
     "text": [
      "Este proyecto lo hizo Gaspar Benitez!\n"
     ]
    }
   ],
   "source": [
    "print(\"Este proyecto lo hizo Gaspar Benitez!\")"
   ]
  },
  {
   "cell_type": "markdown",
   "metadata": {},
   "source": [
    "### Identificadores en Python"
   ]
  },
  {
   "cell_type": "markdown",
   "metadata": {},
   "source": [
    "Es importante saber como Python identifica las palabras, las variabels y las funciones, Python no reconoce caracteres como @, $ y % dentro de los identificadores. Python tambien es sensible al lenguaje, es por eso que \"Poder\" y \"poder\" no es lo mismo."
   ]
  },
  {
   "cell_type": "markdown",
   "metadata": {},
   "source": [
    "### Palabras reservadas"
   ]
  },
  {
   "cell_type": "markdown",
   "metadata": {},
   "source": [
    "La siguiente es una lista de palabras clave para Python. Estas estan reservadas para comandos especiales y no las podemos usar como variables o constantes o cualquier tipo de identificador de nomres. Todas se encuentran en minusculas."
   ]
  },
  {
   "cell_type": "code",
   "execution_count": 29,
   "metadata": {
    "collapsed": true
   },
   "outputs": [],
   "source": [
    "#and\n",
    "#assert\n",
    "#break\n",
    "#class\n",
    "#continue\n",
    "#def\n",
    "#del\n",
    "#elif\n",
    "#else\n",
    "#except\n",
    "#exec\n",
    "#finally\n",
    "#for\n",
    "#from\n",
    "#global\n",
    "#if\n",
    "#import\n",
    "#in\n",
    "#is\n",
    "#lambda\n",
    "#not\n",
    "#or\n",
    "#pass\n",
    "#print\n",
    "#raise\n",
    "#return\n",
    "#try\n",
    "#while\n",
    "#with\n",
    "#yield"
   ]
  },
  {
   "cell_type": "markdown",
   "metadata": {},
   "source": [
    "### Lineas y sangria (tab)"
   ]
  },
  {
   "cell_type": "markdown",
   "metadata": {},
   "source": [
    "Tenemos que tener cuidado con el uso de sangria ya que podria estropear nuestro codigo"
   ]
  },
  {
   "cell_type": "code",
   "execution_count": 48,
   "metadata": {
    "collapsed": false
   },
   "outputs": [
    {
     "name": "stdout",
     "output_type": "stream",
     "text": [
      "Quien eres?\n",
      "Gaspar\n",
      "Hola  Gaspar. ¿Cual es la contrasena?\n",
      "clase2018\n",
      "Acceso Concedido\n"
     ]
    }
   ],
   "source": [
    "nombre= ''\n",
    "while True:\n",
    "    print ('Quien eres?')\n",
    "    nombre = input ()\n",
    "    if nombre != 'Gaspar':\n",
    "        continue\n",
    "    print (\"Hola  Gaspar. ¿Cual es la contrasena?\")\n",
    "    password = input()\n",
    "    if password == 'clase2018':\n",
    "        break\n",
    "print  ('Acceso Concedido')"
   ]
  },
  {
   "cell_type": "code",
   "execution_count": 49,
   "metadata": {
    "collapsed": false
   },
   "outputs": [
    {
     "ename": "IndentationError",
     "evalue": "unexpected indent (<ipython-input-49-682ea2351be1>, line 5)",
     "output_type": "error",
     "traceback": [
      "\u001b[1;36m  File \u001b[1;32m\"<ipython-input-49-682ea2351be1>\"\u001b[1;36m, line \u001b[1;32m5\u001b[0m\n\u001b[1;33m    if nombre != 'Gaspar':\u001b[0m\n\u001b[1;37m    ^\u001b[0m\n\u001b[1;31mIndentationError\u001b[0m\u001b[1;31m:\u001b[0m unexpected indent\n"
     ]
    }
   ],
   "source": [
    "nombre= ''\n",
    "while True:\n",
    "    print ('Quien eres?')\n",
    "    nombre = input ()\n",
    "        if nombre != 'Gaspar':\n",
    "        continue\n",
    "    print (\"Hola  Gaspar. ¿Cual es la contrasena?\")\n",
    "    password = input()\n",
    "    if password == 'clase2018':\n",
    "        break\n",
    "print  ('Acceso Concedido')"
   ]
  },
  {
   "cell_type": "markdown",
   "metadata": {},
   "source": [
    "Como nos damos cuenta, el primer bloque de codigo si nos corrio a la perfeccion. Mientras que el segundo por la sangria mal usada en la linea 5 nos da un error"
   ]
  },
  {
   "cell_type": "markdown",
   "metadata": {},
   "source": [
    "### Declaraciones en linea multiple"
   ]
  },
  {
   "cell_type": "code",
   "execution_count": 11,
   "metadata": {
    "collapsed": false
   },
   "outputs": [],
   "source": [
    "objeto_1 = 1\n",
    "objeto_2 = 2\n",
    "objeto_3 = 3"
   ]
  },
  {
   "cell_type": "code",
   "execution_count": 12,
   "metadata": {
    "collapsed": false
   },
   "outputs": [
    {
     "name": "stdout",
     "output_type": "stream",
     "text": [
      "6\n"
     ]
    }
   ],
   "source": [
    "total = objeto_1 + \\\n",
    "        objeto_2 + \\\n",
    "        objeto_3\n",
    "print(total)"
   ]
  },
  {
   "cell_type": "code",
   "execution_count": 7,
   "metadata": {
    "collapsed": false
   },
   "outputs": [
    {
     "name": "stdout",
     "output_type": "stream",
     "text": [
      "['Lunes', 'Martes', 'Miercoles', 'Jueves', 'Viernes', 'Sabado', 'Domingo']\n"
     ]
    }
   ],
   "source": [
    "days = ['Lunes', 'Martes', 'Miercoles',\n",
    "       'Jueves', 'Viernes', 'Sabado','Domingo']\n",
    "print(days)"
   ]
  },
  {
   "cell_type": "markdown",
   "metadata": {},
   "source": [
    "### Uso de comillas"
   ]
  },
  {
   "cell_type": "code",
   "execution_count": 13,
   "metadata": {
    "collapsed": true
   },
   "outputs": [],
   "source": [
    "palabra = 'palabra'\n",
    "enunciado = \"enunciado\"\n",
    "parrafo = \"\"\"Esto es un parrafo. Y esta formado\n",
    "por varias lineas y enunciados.\"\"\"\n"
   ]
  },
  {
   "cell_type": "code",
   "execution_count": 14,
   "metadata": {
    "collapsed": false
   },
   "outputs": [
    {
     "name": "stdout",
     "output_type": "stream",
     "text": [
      "palabra\n",
      "enunciado\n",
      "Esto es un parrafo. Y esta formado\n",
      "por varias lineas y enunciados.\n"
     ]
    }
   ],
   "source": [
    "print (palabra)\n",
    "print (enunciado)\n",
    "print (parrafo)"
   ]
  },
  {
   "cell_type": "markdown",
   "metadata": {},
   "source": [
    "### Comentarios en Python"
   ]
  },
  {
   "cell_type": "code",
   "execution_count": 17,
   "metadata": {
    "collapsed": false
   },
   "outputs": [
    {
     "name": "stdout",
     "output_type": "stream",
     "text": [
      "Hola, Python\n"
     ]
    }
   ],
   "source": [
    "#Haciendo Prueba\n",
    "\n",
    "#Primer comentario\n",
    "print (\"Hola, Python\") #segundo comentario"
   ]
  },
  {
   "cell_type": "code",
   "execution_count": 18,
   "metadata": {
    "collapsed": true
   },
   "outputs": [],
   "source": [
    "nombre = (\"Gaspar\") # Esto es de nuevo un comentario"
   ]
  },
  {
   "cell_type": "code",
   "execution_count": 19,
   "metadata": {
    "collapsed": true
   },
   "outputs": [],
   "source": [
    "#Hola\n",
    "#Me llamo Gaspar\n",
    "#Estoy en 6to semestre\n",
    "#Estudio en el ITESO"
   ]
  },
  {
   "cell_type": "markdown",
   "metadata": {},
   "source": [
    "### Esperando al usuario"
   ]
  },
  {
   "cell_type": "code",
   "execution_count": 21,
   "metadata": {
    "collapsed": true
   },
   "outputs": [],
   "source": [
    "raw_input = (input)"
   ]
  },
  {
   "cell_type": "code",
   "execution_count": 22,
   "metadata": {
    "collapsed": false
   },
   "outputs": [
    {
     "name": "stdout",
     "output_type": "stream",
     "text": [
      "\n",
      "\n",
      "Presiona la tecla enter para salir.\n"
     ]
    },
    {
     "data": {
      "text/plain": [
       "''"
      ]
     },
     "execution_count": 22,
     "metadata": {},
     "output_type": "execute_result"
    }
   ],
   "source": [
    "raw_input(\"\\n\\nPresiona la tecla enter para salir.\")"
   ]
  },
  {
   "cell_type": "markdown",
   "metadata": {},
   "source": [
    "### Varias declaraciones en una linea usando \";\""
   ]
  },
  {
   "cell_type": "code",
   "execution_count": 23,
   "metadata": {
    "collapsed": true
   },
   "outputs": [],
   "source": [
    "x = 1+1/5; y = 35+23; z = x + y"
   ]
  },
  {
   "cell_type": "code",
   "execution_count": 24,
   "metadata": {
    "collapsed": false
   },
   "outputs": [
    {
     "name": "stdout",
     "output_type": "stream",
     "text": [
      "1.2\n"
     ]
    }
   ],
   "source": [
    "print(x)"
   ]
  },
  {
   "cell_type": "code",
   "execution_count": 25,
   "metadata": {
    "collapsed": false
   },
   "outputs": [
    {
     "name": "stdout",
     "output_type": "stream",
     "text": [
      "58\n"
     ]
    }
   ],
   "source": [
    "print(y)"
   ]
  },
  {
   "cell_type": "code",
   "execution_count": 26,
   "metadata": {
    "collapsed": false
   },
   "outputs": [
    {
     "name": "stdout",
     "output_type": "stream",
     "text": [
      "59.2\n"
     ]
    }
   ],
   "source": [
    "print(z)"
   ]
  },
  {
   "cell_type": "markdown",
   "metadata": {},
   "source": [
    "### Grupos de multiples declaraciones como paquete"
   ]
  },
  {
   "cell_type": "code",
   "execution_count": 27,
   "metadata": {
    "collapsed": false
   },
   "outputs": [
    {
     "name": "stdout",
     "output_type": "stream",
     "text": [
      "Quien eres?\n",
      "Gaspar\n",
      "Hola  Gaspar. ¿Cual es la contrasena?\n",
      "clase2018\n",
      "Acceso Concedido\n"
     ]
    }
   ],
   "source": [
    "nombre= ''\n",
    "while True:\n",
    "    print ('Quien eres?')\n",
    "    nombre = input ()\n",
    "    if nombre != 'Gaspar':\n",
    "        continue\n",
    "    print (\"Hola  Gaspar. ¿Cual es la contrasena?\")\n",
    "    password = input()\n",
    "    if password == 'clase2018':\n",
    "        break\n",
    "print  ('Acceso Concedido')"
   ]
  }
 ],
 "metadata": {
  "anaconda-cloud": {},
  "kernelspec": {
   "display_name": "Python [Root]",
   "language": "python",
   "name": "Python [Root]"
  },
  "language_info": {
   "codemirror_mode": {
    "name": "ipython",
    "version": 3
   },
   "file_extension": ".py",
   "mimetype": "text/x-python",
   "name": "python",
   "nbconvert_exporter": "python",
   "pygments_lexer": "ipython3",
   "version": "3.5.2"
  }
 },
 "nbformat": 4,
 "nbformat_minor": 0
}
